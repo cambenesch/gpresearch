{
 "cells": [
  {
   "cell_type": "code",
   "execution_count": 1,
   "metadata": {},
   "outputs": [],
   "source": [
    "import numpy as np\n",
    "import matplotlib.pyplot as plt"
   ]
  },
  {
   "cell_type": "markdown",
   "metadata": {},
   "source": [
    "Define an $n\\times n$ non-positive semidefinite kernel matrix whose entries are the difference between the row number and the column number of that entry. <br><br>\n",
    "Use this kernel matrix to generate $n$ points from each of $n_f$ zero-mean training functions. <br><br>\n",
    "Plot the first training function. "
   ]
  },
  {
   "cell_type": "code",
   "execution_count": 14,
   "metadata": {},
   "outputs": [
    {
     "name": "stderr",
     "output_type": "stream",
     "text": [
      "c:\\users\\yowza\\appdata\\local\\programs\\python\\python36-32\\lib\\site-packages\\ipykernel_launcher.py:13: RuntimeWarning: covariance is not symmetric positive-semidefinite.\n",
      "  del sys.path[0]\n"
     ]
    },
    {
     "data": {
      "text/plain": [
       "<matplotlib.collections.PathCollection at 0xeca210>"
      ]
     },
     "execution_count": 14,
     "metadata": {},
     "output_type": "execute_result"
    },
    {
     "data": {
      "image/png": "[encoded data removed]",
      "text/plain": [
       "<Figure size 432x288 with 1 Axes>"
      ]
     },
     "metadata": {},
     "output_type": "display_data"
    }
   ],
   "source": [
    "n_f = 100 #number of training functions to generate\n",
    "n = 30 #number of points per training function\n",
    "\n",
    "# Kernel matrix generator\n",
    "K_obs = np.zeros((n,n))\n",
    "for i in range(n):\n",
    "    for j in range(n):\n",
    "        K_obs[i,j] = np.square(i-j)\n",
    "\n",
    "#make n_f functions on which to train\n",
    "f_train = np.zeros((n_f, n))\n",
    "for i in range(n_f):\n",
    "    f_train[i,:] = np.random.multivariate_normal(np.zeros(n), K_obs)\n",
    "\n",
    "#plot the first training observation just to see\n",
    "plt.close()\n",
    "plt.scatter(np.arange(n), f_train[0])"
   ]
  },
  {
   "cell_type": "code",
   "execution_count": 7,
   "metadata": {},
   "outputs": [
    {
     "data": {
      "text/plain": [
       "array([[0., 1., 2., 3., 4.],\n",
       "       [1., 0., 1., 2., 3.],\n",
       "       [2., 1., 0., 1., 2.],\n",
       "       [3., 2., 1., 0., 1.],\n",
       "       [4., 3., 2., 1., 0.]])"
      ]
     },
     "execution_count": 7,
     "metadata": {},
     "output_type": "execute_result"
    }
   ],
   "source": [
    "K_obs"
   ]
  },
  {
   "cell_type": "markdown",
   "metadata": {},
   "source": [
    "Starting with the $n_f\\times n$ matrix of $n_f$ training functions, learn a squared exponential kernel <br>\n",
    "cov$(f(x_p),f(x_q))=k(x_p,x_q)=$exp$(-\\frac{1}{2}\\mid x_p-x_q\\mid ^2)$,  <br>\n",
    "and generate zero-mean functions from to this kernel. <br><br>\n",
    "This should generate functions similar to the training functions above while having the advantage of a pos def kernel matrix. "
   ]
  },
  {
   "cell_type": "code",
   "execution_count": 145,
   "metadata": {},
   "outputs": [
    {
     "data": {
      "text/plain": [
       "<matplotlib.collections.PathCollection at 0x16431510>"
      ]
     },
     "execution_count": 145,
     "metadata": {},
     "output_type": "execute_result"
    },
    {
     "data": {
      "image/png": "[encoded data removed]",
      "text/plain": [
       "<Figure size 432x288 with 1 Axes>"
      ]
     },
     "metadata": {},
     "output_type": "display_data"
    }
   ],
   "source": [
    "#squared exponential covariance function\n",
    "def sq_exp(xp, xq, length_scale=0.00001): \n",
    "    return np.exp(-length_scale*np.linalg.norm(xp-xq)**2)\n",
    "\n",
    "#create covariance matrix. Xp, Xq must have the same number of rows (aka same number of features). \n",
    "def getK(Xp, Xq, func=sq_exp):\n",
    "    assert Xp.shape[1] == Xq.shape[1], 'Xp, Xq have different numbers of features'\n",
    "    K=np.zeros((Xp.shape[1],Xq.shape[1]))\n",
    "    for i in range(K.shape[1]):\n",
    "        for j in range(K.shape[1]):\n",
    "            K[i,j] = sq_exp(Xp[:,i], Xq[:,j])\n",
    "    return K\n",
    "\n",
    "K = getK(f_train, f_train)\n",
    "    \n",
    "#set covariance matrix\n",
    "random_func = np.random.multivariate_normal(np.zeros(n), K)\n",
    "\n",
    "#plot a random function trained on training data\n",
    "plt.close()\n",
    "plt.scatter(np.arange(n), random_func)"
   ]
  },
  {
   "cell_type": "code",
   "execution_count": 4,
   "metadata": {},
   "outputs": [
    {
     "data": {
      "text/plain": [
       "(100, 50)"
      ]
     },
     "execution_count": 4,
     "metadata": {},
     "output_type": "execute_result"
    }
   ],
   "source": [
    "f_train.shape"
   ]
  }
 ],
 "metadata": {
  "kernelspec": {
   "display_name": "Python 3",
   "language": "python",
   "name": "python3"
  },
  "language_info": {
   "codemirror_mode": {
    "name": "ipython",
    "version": 3
   },
   "file_extension": ".py",
   "mimetype": "text/x-python",
   "name": "python",
   "nbconvert_exporter": "python",
   "pygments_lexer": "ipython3",
   "version": "3.6.5"
  }
 },
 "nbformat": 4,
 "nbformat_minor": 2
}
