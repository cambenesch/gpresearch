{
 "cells": [
  {
   "cell_type": "code",
   "execution_count": 1,
   "metadata": {},
   "outputs": [],
   "source": [
    "import numpy as np\n",
    "import matplotlib.pyplot as plt"
   ]
  },
  {
   "cell_type": "markdown",
   "metadata": {},
   "source": [
    "Generate data, store in `x_train`, `y_train`, `x_test`, `x_actual`. Ignore details. "
   ]
  },
  {
   "cell_type": "code",
   "execution_count": 2,
   "metadata": {},
   "outputs": [
    {
     "name": "stderr",
     "output_type": "stream",
     "text": [
      "c:\\users\\yowza\\appdata\\local\\programs\\python\\python36-32\\lib\\site-packages\\ipykernel_launcher.py:17: RuntimeWarning: covariance is not symmetric positive-semidefinite.\n"
     ]
    }
   ],
   "source": [
    "n_train = 100 #number training points\n",
    "n_test = 1 #number testing points\n",
    "n_f = n_train + n_test\n",
    "n_in = 30 #number input features per point\n",
    "n_out = 1 #number output features per point\n",
    "n = n_in + n_out\n",
    "\n",
    "# Kernel matrix generator\n",
    "K_obs = np.zeros((n,n))\n",
    "for i in range(n):\n",
    "    for j in range(n):\n",
    "        K_obs[i,j] = np.abs(i-j)\n",
    "\n",
    "#make n_f points, store each as a row in f_train\n",
    "alldata = np.zeros((n, n_f))\n",
    "for i in range(n_f):\n",
    "    alldata[:,i] = np.random.multivariate_normal(np.zeros(n), K_obs)\n",
    "    \n",
    "x_train = alldata[:n_in, :n_train]\n",
    "y_train = alldata[n_in:, :n_train].reshape(-1,1)\n",
    "x_test = alldata[:n_in, n_train:]\n",
    "y_actual = alldata[n_in:, n_train:].reshape(-1,1)"
   ]
  },
  {
   "cell_type": "markdown",
   "metadata": {},
   "source": [
    "Actual GP prior. Start with prior $f \\mid X\\sim \\mathcal{N}(0,K)$. Solve by GPR algorithm. "
   ]
  },
  {
   "cell_type": "code",
   "execution_count": 14,
   "metadata": {},
   "outputs": [],
   "source": [
    "#squared exponential covariance function\n",
    "def sq_exp(xp, xq, length_scale=0.01): \n",
    "    return np.exp(-length_scale*np.linalg.norm(xp-xq)**2)\n",
    "\n",
    "noise = 0.000001\n",
    "k = sq_exp\n",
    "\n",
    "def getK(Xp, Xq):\n",
    "    assert Xp.shape[0] == Xq.shape[0], 'Xp, Xq have different numbers of features'\n",
    "    K=np.zeros((Xp.shape[1],Xq.shape[1]))\n",
    "    for i in range(K.shape[0]):\n",
    "        for j in range(K.shape[1]):\n",
    "            K[i,j] = sq_exp(Xp[:,i], Xq[:,j])\n",
    "    return K\n",
    "\n",
    "m = 50\n",
    "\n",
    "K = getK(x_train, x_train)\n",
    "L = np.linalg.cholesky(K + np.identity(n_train) * noise)\n",
    "alpha = np.linalg.solve(L.T, np.linalg.solve(L, y_train - m))\n",
    "K_train_test = getK(x_train, x_test)\n",
    "pred_mean = K_train_test.T @ alpha + m\n",
    "v = np.linalg.solve(L, K_train_test) #covariances\n",
    "pred_var = getK(x_test, x_test) - v.T @ v\n",
    "log_marginal = -0.5 * y_train.T @ alpha - np.sum(np.log(np.diag(L))) - 0.5*n_train * np.log(2*np.pi)"
   ]
  },
  {
   "cell_type": "code",
   "execution_count": 15,
   "metadata": {},
   "outputs": [
    {
     "data": {
      "text/plain": [
       "(array([[-1.72359849]]),\n",
       " array([[10.46888673]]),\n",
       " array([[-12.19248522]]),\n",
       " array([[0.87038167]]))"
      ]
     },
     "execution_count": 15,
     "metadata": {},
     "output_type": "execute_result"
    }
   ],
   "source": [
    "y_actual, pred_mean, y_actual - pred_mean, pred_var"
   ]
  },
  {
   "cell_type": "markdown",
   "metadata": {},
   "source": [
    "Test output (y-value) is at index 30 in chart below. Blue point is actual, orange is predicted. Error bar is 2 SDs. "
   ]
  },
  {
   "cell_type": "code",
   "execution_count": 16,
   "metadata": {},
   "outputs": [
    {
     "data": {
      "text/plain": [
       "<ErrorbarContainer object of 3 artists>"
      ]
     },
     "execution_count": 16,
     "metadata": {},
     "output_type": "execute_result"
    },
    {
     "data": {
      "image/png": "[encoded data removed]",
      "text/plain": [
       "<Figure size 432x288 with 1 Axes>"
      ]
     },
     "metadata": {},
     "output_type": "display_data"
    }
   ],
   "source": [
    "plt.close()\n",
    "plt.scatter(np.arange(n), alldata[:,-1])\n",
    "plt.scatter(n_in, pred_mean)\n",
    "plt.errorbar(n_in, pred_mean, yerr=2*np.sqrt(pred_var), capsize=5, ecolor='orange')"
   ]
  },
  {
   "cell_type": "code",
   "execution_count": null,
   "metadata": {},
   "outputs": [],
   "source": []
  }
 ],
 "metadata": {
  "kernelspec": {
   "display_name": "Python 3",
   "language": "python",
   "name": "python3"
  },
  "language_info": {
   "codemirror_mode": {
    "name": "ipython",
    "version": 3
   },
   "file_extension": ".py",
   "mimetype": "text/x-python",
   "name": "python",
   "nbconvert_exporter": "python",
   "pygments_lexer": "ipython3",
   "version": "3.6.5"
  }
 },
 "nbformat": 4,
 "nbformat_minor": 2
}
