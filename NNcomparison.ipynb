{
 "cells": [
  {
   "cell_type": "code",
   "execution_count": 8,
   "metadata": {},
   "outputs": [],
   "source": [
    "import numpy as np\n",
    "import matplotlib.pyplot as plt\n",
    "import tensorflow as tf\n",
    "from keras.models import Sequential\n",
    "from keras.layers import Dense"
   ]
  },
  {
   "cell_type": "markdown",
   "metadata": {},
   "source": [
    "Generate sine wave data, store in `x_train`, `y_train`, `x_test`, `x_actual`, make plot. "
   ]
  },
  {
   "cell_type": "code",
   "execution_count": 9,
   "metadata": {},
   "outputs": [
    {
     "data": {
      "text/plain": [
       "<matplotlib.collections.PathCollection at 0x1f5df82b208>"
      ]
     },
     "execution_count": 9,
     "metadata": {},
     "output_type": "execute_result"
    },
    {
     "data": {
      "image/png": "[encoded data removed]",
      "text/plain": [
       "<Figure size 432x288 with 1 Axes>"
      ]
     },
     "metadata": {
      "needs_background": "light"
     },
     "output_type": "display_data"
    }
   ],
   "source": [
    "n_train = 100 #number training points\n",
    "n_test = 100 #number testing points\n",
    "n_f = n_train + n_test\n",
    "n_in = 1 #number input features per point\n",
    "n_out = 1 #number output features per point\n",
    "n = n_in + n_out\n",
    "\n",
    "noise, xrange = 0.1, 5\n",
    "alldata = np.zeros((n, n_f))\n",
    "alldata[:n_in] = np.random.rand(n_in, n_f) * xrange\n",
    "alldata[n_in:] = np.sin(alldata[:n_in])# + np.random.normal(scale=noise,size=(n_out,n_f))\n",
    "\n",
    "x_train = alldata[:n_in, :n_train].reshape(-1,1)\n",
    "y_train = alldata[n_in:, :n_train].reshape(-1,1)\n",
    "x_test = alldata[:n_in, n_train:].reshape(-1,1)\n",
    "y_actual = alldata[n_in:, n_train:].reshape(-1,1)\n",
    "plt.scatter(x_train, y_train)\n",
    "plt.scatter(x_test, y_actual, color='orange')"
   ]
  },
  {
   "cell_type": "markdown",
   "metadata": {},
   "source": [
    "Train neural network on data"
   ]
  },
  {
   "cell_type": "code",
   "execution_count": 10,
   "metadata": {},
   "outputs": [],
   "source": [
    "def nn_mse(x_train, y_train, x_test, y_actual, units=20, epochs=100):\n",
    "    model = Sequential()\n",
    "    model.add(Dense(units, input_dim=1, activation='sigmoid'))\n",
    "    model.add(Dense(1))\n",
    "\n",
    "    model.compile(optimizer='adam', loss='mse')\n",
    "\n",
    "    model.fit(x_train.flatten(), y_train, epochs=epochs, batch_size=32, verbose=False)\n",
    "    y_preds = model.predict(x_test)\n",
    "    \n",
    "    return np.mean((y_preds - y_actual) ** 2)\n",
    "    #plt.scatter(x_test, y_preds, color='orange')\n",
    "\n",
    "#nn_error(x_train, y_train, x_test, y_actual, units=20, epochs=100)"
   ]
  },
  {
   "cell_type": "markdown",
   "metadata": {},
   "source": [
    "Train sigmoidal transfer kernel GP on data"
   ]
  },
  {
   "cell_type": "code",
   "execution_count": 15,
   "metadata": {},
   "outputs": [],
   "source": [
    "def sigtransfer_mse(x_train, y_train, x_test, y_actual, noise=0.01, mean=0):\n",
    "    \n",
    "    #squared exponential covariance function\n",
    "    def sq_exp(xp, xq, length_scale=0.01): \n",
    "        return np.exp(-length_scale*np.linalg.norm(xp-xq)**2)\n",
    "\n",
    "    #Sigmoidal transfer function as in [CKI Williams, 1997]\n",
    "    def sig_transfer(xp, xq):\n",
    "        prior = np.identity(len(xp))\n",
    "        inner_pq = xp.reshape(-1,1).T @ prior @ xq.reshape(-1,1)\n",
    "        inner_pp = xp.reshape(-1,1).T @ prior @ xp.reshape(-1,1)\n",
    "        inner_qq = xq.reshape(-1,1).T @ prior @ xq.reshape(-1,1)\n",
    "        norm = np.sqrt((1 + 2 * inner_pp) * (1 + 2 * inner_qq))\n",
    "        return 2 / np.pi * np.arcsin((2 * inner_pq) / norm)\n",
    "\n",
    "    noise = noise\n",
    "    k = sig_transfer\n",
    "\n",
    "    def getK(Xp, Xq):\n",
    "        Xp, Xq = Xp.T, Xq.T\n",
    "        assert Xp.shape[0] == Xq.shape[0], 'Xp, Xq have different numbers of features'\n",
    "        K=np.zeros((Xp.shape[1],Xq.shape[1]))\n",
    "        for i in range(K.shape[0]):\n",
    "            for j in range(K.shape[1]):\n",
    "                K[i,j] = sig_transfer(Xp[:,i], Xq[:,j])\n",
    "        return K\n",
    "\n",
    "    m = mean #prior mean\n",
    "\n",
    "    K = getK(x_train, x_train)\n",
    "    L = np.linalg.cholesky(K + np.identity(n_train) * noise)\n",
    "    alpha = np.linalg.solve(L.T, np.linalg.solve(L, y_train - m))\n",
    "    K_train_test = getK(x_train, x_test)\n",
    "    pred_mean = K_train_test.T @ alpha + m\n",
    "    v = np.linalg.solve(L, K_train_test) #covariances\n",
    "    pred_var = getK(x_test, x_test) - v.T @ v\n",
    "    log_marginal = -0.5 * y_train.T @ alpha - np.sum(np.log(np.diag(L))) - 0.5*n_train * np.log(2*np.pi)\n",
    "    \n",
    "    return np.mean((pred_mean - y_actual) ** 2)\n",
    "\n",
    "#sigtransfer_mse(x_train, y_train, x_test, y_actual, noise=0.01, mean=0)"
   ]
  },
  {
   "cell_type": "code",
   "execution_count": null,
   "metadata": {},
   "outputs": [],
   "source": []
  },
  {
   "cell_type": "code",
   "execution_count": 19,
   "metadata": {},
   "outputs": [
    {
     "data": {
      "text/plain": [
       "0.00945999851327006"
      ]
     },
     "execution_count": 19,
     "metadata": {},
     "output_type": "execute_result"
    }
   ],
   "source": [
    "e2 = sigtransfer_mse(x_train, y_train, x_test, y_actual, noise=0.01, mean=0)\n",
    "e2"
   ]
  },
  {
   "cell_type": "code",
   "execution_count": 18,
   "metadata": {
    "scrolled": true
   },
   "outputs": [
    {
     "name": "stdout",
     "output_type": "stream",
     "text": [
      "Number hidden units: 1 . MSE difference: 0.08835533493696837\n",
      "Number hidden units: 41 . MSE difference: 0.01905650923656435\n",
      "Number hidden units: 81 . MSE difference: 0.10243668964396364\n",
      "Number hidden units: 121 . MSE difference: 0.09742959403546284\n",
      "Number hidden units: 161 . MSE difference: 0.0528839476451617\n",
      "Number hidden units: 201 . MSE difference: 0.06494981113304268\n",
      "Number hidden units: 241 . MSE difference: 0.08198837622190401\n",
      "Number hidden units: 281 . MSE difference: 0.030728892547684912\n"
     ]
    }
   ],
   "source": [
    "unit_vals = np.arange(1,300,40)\n",
    "err_diffs = []\n",
    "\n",
    "for units in unit_vals:\n",
    "    e1 = nn_mse(x_train, y_train, x_test, y_actual, units=units, epochs=1000)\n",
    "    err_diffs.append(e1-e2)\n",
    "    plt.close()\n",
    "    print('Number hidden units:', units, '. MSE difference:', e1 - e2)"
   ]
  },
  {
   "cell_type": "code",
   "execution_count": 1,
   "metadata": {},
   "outputs": [
    {
     "ename": "NameError",
     "evalue": "name 'e2' is not defined",
     "output_type": "error",
     "traceback": [
      "\u001b[1;31m---------------------------------------------------------------------------\u001b[0m",
      "\u001b[1;31mNameError\u001b[0m                                 Traceback (most recent call last)",
      "\u001b[1;32m<ipython-input-1-4a078b075f25>\u001b[0m in \u001b[0;36m<module>\u001b[1;34m\u001b[0m\n\u001b[1;32m----> 1\u001b[1;33m \u001b[0me2\u001b[0m\u001b[1;33m\u001b[0m\u001b[1;33m\u001b[0m\u001b[0m\n\u001b[0m",
      "\u001b[1;31mNameError\u001b[0m: name 'e2' is not defined"
     ]
    }
   ],
   "source": [
    "e2"
   ]
  },
  {
   "cell_type": "code",
   "execution_count": 82,
   "metadata": {},
   "outputs": [
    {
     "data": {
      "text/plain": [
       "<matplotlib.collections.PathCollection at 0x1da37851668>"
      ]
     },
     "execution_count": 82,
     "metadata": {},
     "output_type": "execute_result"
    },
    {
     "data": {
      "image/png": "[encoded data removed]",
      "text/plain": [
       "<Figure size 432x288 with 1 Axes>"
      ]
     },
     "metadata": {
      "needs_background": "light"
     },
     "output_type": "display_data"
    }
   ],
   "source": [
    "plt.scatter(unit_vals, err_diffs)"
   ]
  },
  {
   "cell_type": "markdown",
   "metadata": {},
   "source": [
    "Test output (y-value) is at index 30 in chart below. Blue point is actual, orange is predicted. Error bar is 2 SDs. "
   ]
  },
  {
   "cell_type": "code",
   "execution_count": 84,
   "metadata": {},
   "outputs": [
    {
     "data": {
      "text/plain": [
       "<ErrorbarContainer object of 3 artists>"
      ]
     },
     "execution_count": 84,
     "metadata": {},
     "output_type": "execute_result"
    },
    {
     "data": {
      "image/png": "[encoded data removed]",
      "text/plain": [
       "<Figure size 432x288 with 1 Axes>"
      ]
     },
     "metadata": {
      "needs_background": "light"
     },
     "output_type": "display_data"
    }
   ],
   "source": [
    "plt.close()\n",
    "plt.scatter(np.arange(n), alldata[:,-1])\n",
    "plt.scatter(n_in, pred_mean)\n",
    "plt.errorbar(n_in, pred_mean, yerr=2*np.sqrt(pred_var), capsize=5, ecolor='orange')"
   ]
  },
  {
   "cell_type": "code",
   "execution_count": null,
   "metadata": {},
   "outputs": [],
   "source": []
  }
 ],
 "metadata": {
  "kernelspec": {
   "display_name": "Python 3",
   "language": "python",
   "name": "python3"
  },
  "language_info": {
   "codemirror_mode": {
    "name": "ipython",
    "version": 3
   },
   "file_extension": ".py",
   "mimetype": "text/x-python",
   "name": "python",
   "nbconvert_exporter": "python",
   "pygments_lexer": "ipython3",
   "version": "3.7.3"
  }
 },
 "nbformat": 4,
 "nbformat_minor": 2
}
